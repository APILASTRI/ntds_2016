{
 "cells": [
  {
   "cell_type": "code",
   "execution_count": null,
   "metadata": {
    "collapsed": true
   },
   "outputs": [],
   "source": [
    "from sklearn.decomposition import PCA\n",
    "import seaborn as sns\n",
    "\n",
    "pca = PCA(n_components=2)\n",
    "X = pca.fit_transform(daily_pca.values[:, :25])\n",
    "daily_pca['pca1'] = X[:, 0]\n",
    "daily_pca['pca2'] = X[:, 1]\n",
    "\n",
    "plt.figure(figsize=(15, 5))\n",
    "ax = plt.subplot(1, 2, 1)\n",
    "sns.swarmplot(x='pca1', y='pca2', data=daily_pca, hue='day_of_week')\n",
    "plt.legend(loc='lower left')\n",
    "ax = plt.subplot(1, 2, 2)\n",
    "sns.swarmplot(x='pca1', y='pca2', data=daily_pca, hue='Events')\n",
    "plt.legend(loc='lower left')\n",
    "plt.show()\n",
    "\n",
    "plt.figure(figsize=(15, 5))\n",
    "ax = plt.subplot(1, 2, 1)\n",
    "daily_pca.plot('pca1', 'pca2', kind='scatter', c='total_trips', cmap='Greens', ax=ax)\n",
    "ax = plt.subplot(1, 2, 2)\n",
    "daily_pca.plot('pca1', 'pca2', kind='scatter', c='Mean_Temperature_F', cmap='Reds', ax=ax)\n",
    "plt.show()\n",
    "\n",
    "plt.figure(figsize=(15, 5))\n",
    "ax = plt.subplot(1, 2, 1)\n",
    "daily_pca.plot('pca1', 'pca2', kind='scatter', c='Precipitation_In ', cmap='Blues', ax=ax)\n",
    "plt.show()"
   ]
  }
 ],
 "metadata": {
  "anaconda-cloud": {},
  "kernelspec": {
   "display_name": "Python [Root]",
   "language": "python",
   "name": "Python [Root]"
  },
  "language_info": {
   "codemirror_mode": {
    "name": "ipython",
    "version": 3
   },
   "file_extension": ".py",
   "mimetype": "text/x-python",
   "name": "python",
   "nbconvert_exporter": "python",
   "pygments_lexer": "ipython3",
   "version": "3.5.2"
  }
 },
 "nbformat": 4,
 "nbformat_minor": 0
}
