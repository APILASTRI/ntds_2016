{
 "cells": [
  {
   "cell_type": "code",
   "execution_count": null,
   "metadata": {
    "collapsed": true
   },
   "outputs": [],
   "source": [
    "#Start with SLU-01\n",
    "station_id='SLU-01'\n",
    "print('The Station {}'.format(station_id)+' has {} docks in total.'.format(station.loc[station_id,'install_dockcount']))\n",
    "\n",
    "#Station by station\n",
    "extract = trip.loc[(trip.from_station_id==station_id) | (trip.to_station_id==station_id),:]\n",
    "def incrementation(row):\n",
    "    if (row['from_station_id']==station_id)&(row['to_station_id']==station_id):\n",
    "        return int(0)\n",
    "    if (row['from_station_id']==station_id):\n",
    "        return int(-1)\n",
    "    if (row['to_station_id']==station_id):\n",
    "        return int(1)\n",
    "extract['incrementation'] = trip.apply(incrementation, axis=1)\n",
    "extract = extract.set_index('trip_id')\n",
    "\n",
    "#Start and Stop\n",
    "temp1 = extract.loc[(extract.incrementation==0),['starttime','stoptime','bikeid','to_station_id','incrementation']]\n",
    "instanteanous_variation = pd.DataFrame(columns=['trip_id','time', 'bikeid', 'destination_id', 'incrementation'])\n",
    "for i in range(temp1.shape[0]):\n",
    "    #-1\n",
    "    serie1 = dict(trip_id=temp1.index[i],bikeid=temp1.bikeid.values[i],destination_id=temp1.to_station_id.values[i])\n",
    "    serie1['incrementation'] = -1\n",
    "    serie1['time'] = temp1.starttime.values[i]\n",
    "    \n",
    "    #+1\n",
    "    serie2 = dict(trip_id=temp1.index[i],bikeid=temp1.bikeid.values[i],destination_id=temp1.to_station_id.values[i])\n",
    "    serie2['incrementation'] = 1\n",
    "    serie2['time'] = temp1.stoptime.values[i]\n",
    "    \n",
    "    instanteanous_variation = instanteanous_variation.append(serie1, ignore_index=True)\n",
    "    instanteanous_variation = instanteanous_variation.append(serie2, ignore_index=True)\n",
    "instanteanous_variation = instanteanous_variation.set_index('trip_id')\n",
    "instanteanous_variation.index = instanteanous_variation.index.astype(int) \n",
    "\n",
    "#Stop\n",
    "temp2 = extract.loc[(extract.incrementation==1.0),['stoptime','bikeid','from_station_id','incrementation']]\n",
    "temp2.columns=['time','bikeid','destination_id','incrementation']\n",
    "instanteanous_variation=instanteanous_variation.append(temp2)\n",
    "\n",
    "#Start\n",
    "temp3 = extract.loc[(extract.incrementation==-1.0),['starttime','bikeid','to_station_id','incrementation']]\n",
    "temp3.columns=['time','bikeid','destination_id','incrementation']\n",
    "instanteanous_variation=instanteanous_variation.append(temp3)\n",
    "\n",
    "#Sort by time before doing cumulative\n",
    "instanteanous_variation.time = pd.to_datetime(instanteanous_variation.time)\n",
    "instanteanous_variation = instanteanous_variation.sort_values('time')\n",
    "\n",
    "#Computation of the total cumulative variation\n",
    "instanteanous_variation['total_variation'] = instanteanous_variation['incrementation'].cumsum()\n",
    "\n",
    "#Display DF\n",
    "display(instanteanous_variation.head())\n",
    "\n",
    "# Visualization\n",
    "instanteanous_variation.plot(x='time',y='total_variation',figsize=(30,10), grid=True, fontsize=15)\n",
    "plt.show()"
   ]
  }
 ],
 "metadata": {
  "anaconda-cloud": {},
  "kernelspec": {
   "display_name": "Python [Root]",
   "language": "python",
   "name": "Python [Root]"
  },
  "language_info": {
   "codemirror_mode": {
    "name": "ipython",
    "version": 3
   },
   "file_extension": ".py",
   "mimetype": "text/x-python",
   "name": "python",
   "nbconvert_exporter": "python",
   "pygments_lexer": "ipython3",
   "version": "3.5.2"
  }
 },
 "nbformat": 4,
 "nbformat_minor": 0
}
