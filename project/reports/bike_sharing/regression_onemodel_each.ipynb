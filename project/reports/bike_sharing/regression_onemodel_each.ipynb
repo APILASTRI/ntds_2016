{
 "cells": [
  {
   "cell_type": "code",
   "execution_count": null,
   "metadata": {
    "collapsed": true
   },
   "outputs": [],
   "source": [
    "#Out of the for loop on stations\n",
    "time_period = Xtot[(Xtot[:,Xtot.shape[1]-1]==0)].shape[0]\n",
    "test_size = time_period // 2\n",
    "perm = np.random.permutation(time_period)\n",
    "\n",
    "mse_tot = []\n",
    "mae_tot = []"
   ]
  },
  {
   "cell_type": "code",
   "execution_count": null,
   "metadata": {
    "collapsed": true
   },
   "outputs": [],
   "source": [
    "for k in int_to_station.keys():\n",
    "    #Selecting the station to regress on\n",
    "    boolean_station = (Xtot[:,Xtot.shape[1]-1]==k)\n",
    "    X = Xtot[boolean_station]\n",
    "    y = ytot[boolean_station]\n",
    "    \n",
    "    #Pre-processing (Testing/Training set)\n",
    "    X_test  = X[perm[:test_size]]\n",
    "    X_train = X[perm[test_size:]]\n",
    "    y_test  = y[perm[:test_size]]\n",
    "    y_train = y[perm[test_size:]]\n",
    "    \n",
    "    #Regression using Scikit Learn\n",
    "    model = ensemble.RandomForestRegressor(n_estimators=20) #fucking good!\n",
    "    \n",
    "    model.fit(X_train, y_train.ravel())\n",
    "    y_pred = model.predict(X_test)\n",
    "    \n",
    "    mse = metrics.mean_squared_error(y_test, y_pred)\n",
    "    mae = metrics.mean_absolute_error(y_test,y_pred)\n",
    "    \n",
    "    mse_tot = np.append(mse_tot, mse)\n",
    "    mae_tot = np.append(mae_tot, mae)"
   ]
  },
  {
   "cell_type": "code",
   "execution_count": null,
   "metadata": {
    "collapsed": true
   },
   "outputs": [],
   "source": [
    "#Visualization\n",
    "temp = pd.DataFrame(mse_tot, index=int_to_station.values(), columns=['mse'])\n",
    "temp['mae'] = mae_tot\n",
    "\n",
    "ax = temp.sort_values('mse').plot(kind='bar', figsize = (30,10), fontsize = 15)\n",
    "ax.set_title('Regression Evaluation One model per Station For 20 Trees',fontsize=25)\n",
    "ax.set_ylabel('Measure Value',fontsize=15)\n",
    "ax.legend(fontsize=15)\n",
    "plt.show()"
   ]
  }
 ],
 "metadata": {
  "anaconda-cloud": {},
  "kernelspec": {
   "display_name": "Python [Root]",
   "language": "python",
   "name": "Python [Root]"
  },
  "language_info": {
   "codemirror_mode": {
    "name": "ipython",
    "version": 3
   },
   "file_extension": ".py",
   "mimetype": "text/x-python",
   "name": "python",
   "nbconvert_exporter": "python",
   "pygments_lexer": "ipython3",
   "version": "3.5.2"
  }
 },
 "nbformat": 4,
 "nbformat_minor": 0
}
