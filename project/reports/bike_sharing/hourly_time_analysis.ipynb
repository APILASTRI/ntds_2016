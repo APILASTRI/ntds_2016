{
 "cells": [
  {
   "cell_type": "code",
   "execution_count": null,
   "metadata": {
    "collapsed": true
   },
   "outputs": [],
   "source": [
    "#Building dataframes\n",
    "ind = pd.DatetimeIndex(trip.date)\n",
    "trip['weekend'] = (ind.dayofweek > 4)\n",
    "by_hour_week = trip.loc[(trip.weekend==False),:].pivot_table('trip_id', aggfunc='count', index=['date'], columns=['hour']).fillna(0)\n",
    "by_hour_end = trip.loc[(trip.weekend==True),:].pivot_table('trip_id', aggfunc='count', index=['date'], columns=['hour']).fillna(0)\n",
    "\n",
    "#Visualization\n",
    "plt.figure(figsize=(30,10))\n",
    "ax = plt.subplot(1, 2, 1)\n",
    "by_hour_week.mean().plot(kind='bar',fontsize=15)\n",
    "ax.set_title('Week Days', fontsize=20)\n",
    "ax.set_ylabel('Average Number of Trips',fontsize=15)\n",
    "ax = plt.subplot(1, 2, 2)\n",
    "by_hour_end.mean().plot(kind='bar',fontsize=15)\n",
    "ax.set_title('Week Ends', fontsize=20)\n",
    "ax.set_ylabel('Average Number of Trips',fontsize=15)\n",
    "plt.show()"
   ]
  }
 ],
 "metadata": {
  "anaconda-cloud": {},
  "kernelspec": {
   "display_name": "Python [Root]",
   "language": "python",
   "name": "Python [Root]"
  },
  "language_info": {
   "codemirror_mode": {
    "name": "ipython",
    "version": 3
   },
   "file_extension": ".py",
   "mimetype": "text/x-python",
   "name": "python",
   "nbconvert_exporter": "python",
   "pygments_lexer": "ipython3",
   "version": "3.5.2"
  }
 },
 "nbformat": 4,
 "nbformat_minor": 0
}
