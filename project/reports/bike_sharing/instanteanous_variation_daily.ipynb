{
 "cells": [
  {
   "cell_type": "code",
   "execution_count": null,
   "metadata": {
    "collapsed": true
   },
   "outputs": [],
   "source": [
    "date_start = date(2014,10,13)\n",
    "date_end = date(2016,8,31)\n",
    "dates = [date_start + timedelta(days=x) for x in range((date_end-date_start).days + 1)]\n",
    "\n",
    "daily = []\n",
    "for d in dates:\n",
    "    temp = instanteanous_variation.loc[(instanteanous_variation.time.dt.date==d),['incrementation']].cumsum().values\n",
    "    daily = np.append(daily,temp) \n",
    "instanteanous_variation['daily_variation'] = pd.Series(daily, index=instanteanous_variation.index)\n",
    "display(instanteanous_variation.iloc[16:22,:])"
   ]
  },
  {
   "cell_type": "code",
   "execution_count": null,
   "metadata": {
    "collapsed": true
   },
   "outputs": [],
   "source": [
    "#Visualization of instanteanous_variation\n",
    "week_start = date(2016,6,13)\n",
    "week_end = date(2016,6,19)\n",
    "week_to_visualize = [week_start + timedelta(days=x) for x in range((week_end-week_start).days + 1)]\n",
    "#Compute Boolean Vector to select among our data\n",
    "boolean_selection = False\n",
    "for d in week_to_visualize:\n",
    "    boolean_selection = boolean_selection | (instanteanous_variation.time.dt.date==d)\n",
    "\n",
    "instanteanous_variation_1week = instanteanous_variation.loc[(boolean_selection),['time','daily_variation']]\n",
    "instanteanous_variation_1week = instanteanous_variation_1week.set_index('time')\n",
    "\n",
    "plt.figure(figsize=(30,10))\n",
    "plt.plot_date(instanteanous_variation_1week.index, instanteanous_variation_1week.values)\n",
    "plt.title('Instanteanous Daily Variation Over 1 Week', fontsize=20)\n",
    "plt.xticks(fontsize=15)\n",
    "plt.yticks(fontsize=15)\n",
    "plt.ylabel('Instanteanous Daily Variation', fontsize=15)\n",
    "plt.show()"
   ]
  }
 ],
 "metadata": {
  "anaconda-cloud": {},
  "kernelspec": {
   "display_name": "Python [Root]",
   "language": "python",
   "name": "Python [Root]"
  },
  "language_info": {
   "codemirror_mode": {
    "name": "ipython",
    "version": 3
   },
   "file_extension": ".py",
   "mimetype": "text/x-python",
   "name": "python",
   "nbconvert_exporter": "python",
   "pygments_lexer": "ipython3",
   "version": "3.5.2"
  }
 },
 "nbformat": 4,
 "nbformat_minor": 0
}
