{
 "cells": [
  {
   "cell_type": "code",
   "execution_count": null,
   "metadata": {
    "collapsed": true
   },
   "outputs": [],
   "source": [
    "#Numerizing Events\n",
    "data_to_regress.Events = data_to_regress.Events.fillna(value=0)\n",
    "to_one = ['Fog']\n",
    "for st in to_one:\n",
    "    data_to_regress.loc[(data_to_regress.Events == st),['Events']]=1\n",
    "to_two = ['Rain','Fog , Rain','Fog-Rain', 'Rain-Thunderstorm','Rain , Thunderstorm']\n",
    "for st in to_two:\n",
    "    data_to_regress.loc[(data_to_regress.Events == st),['Events']]=2\n",
    "to_three = ['Snow','Rain-Snow','Rain , Snow']\n",
    "for st in to_three:\n",
    "    data_to_regress.loc[(data_to_regress.Events == st),['Events']]=3\n",
    "\n",
    "#Numerizing Stations\n",
    "station_to_int = {} #dictionaries to store mapping name and int\n",
    "int_to_station = {}\n",
    "for k, st in enumerate(station_ids):\n",
    "    station_to_int[st] = k\n",
    "    int_to_station[k] = st\n",
    "    data_to_regress.loc[(data_to_regress.station_id == st),['station_id']]=k\n",
    "    \n",
    "#More cleaning\n",
    "data_to_regress = data_to_regress.dropna(axis=0)\n",
    "\n",
    "\n",
    "#Numerizing the entire dataframe\n",
    "Xtot = data_to_regress.as_matrix(columns=['Events','Mean_Temperature_F','Precipitation_In ','month','weekday','hour','station_id'])\n",
    "ytot = data_to_regress.as_matrix(columns=['daily_variation'])\n",
    "\n",
    "#Saving data since takes to much time to compute\n",
    "np.save('Xtot',Xtot)\n",
    "np.save('ytot',ytot)\n",
    "\n",
    "print('Database shape used for regression: {}'.format(Xtot.shape))"
   ]
  }
 ],
 "metadata": {
  "anaconda-cloud": {},
  "kernelspec": {
   "display_name": "Python [Root]",
   "language": "python",
   "name": "Python [Root]"
  },
  "language_info": {
   "codemirror_mode": {
    "name": "ipython",
    "version": 3
   },
   "file_extension": ".py",
   "mimetype": "text/x-python",
   "name": "python",
   "nbconvert_exporter": "python",
   "pygments_lexer": "ipython3",
   "version": "3.5.2"
  }
 },
 "nbformat": 4,
 "nbformat_minor": 0
}
