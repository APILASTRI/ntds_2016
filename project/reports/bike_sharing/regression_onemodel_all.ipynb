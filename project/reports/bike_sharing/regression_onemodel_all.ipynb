{
 "cells": [
  {
   "cell_type": "code",
   "execution_count": null,
   "metadata": {
    "collapsed": true
   },
   "outputs": [],
   "source": [
    "#Pre-processing (Testing/Training set)\n",
    "test_size = Xtot.shape[0] // 2\n",
    "print('Split: {} testing and {} training samples'.format(test_size, ytot.size - test_size))\n",
    "perm = np.random.permutation(ytot.size)\n",
    "X_test  = Xtot[perm[:test_size]]\n",
    "X_train = Xtot[perm[test_size:]]\n",
    "y_test  = ytot[perm[:test_size]]\n",
    "y_train = ytot[perm[test_size:]]"
   ]
  },
  {
   "cell_type": "code",
   "execution_count": null,
   "metadata": {
    "collapsed": true
   },
   "outputs": [],
   "source": [
    "#Regression using Scikit Learn\n",
    "from sklearn import linear_model, metrics, ensemble\n",
    "\n",
    "# model = linear_model.LinearRegression()\n",
    "# model = linear_model.Ridge (alpha = 1e3)\n",
    "# model = linear_model.SGDRegressor() #is really bad\n",
    "# model = linear_model.BayesianRidge()\n",
    "# model = linear_model.LogisticRegression() #one of the most popular linear technique\n",
    "\n",
    "n_estimators = 50\n",
    "to_test = np.append(range(1, 20), range(20, n_estimators + 10,10))\n",
    "model = ensemble.RandomForestRegressor() #fucking good!\n",
    "\n",
    "mse = []\n",
    "mae = []\n",
    "for n in to_test:\n",
    "    model.set_params(n_estimators=n)\n",
    "    model.fit(X_train, y_train.ravel())\n",
    "    y_pred = model.predict(X_test)\n",
    "    mse = np.append(mse, metrics.mean_squared_error(y_test, y_pred))\n",
    "    mae = np.append(mae, metrics.mean_absolute_error(y_test,y_pred))"
   ]
  },
  {
   "cell_type": "code",
   "execution_count": null,
   "metadata": {
    "collapsed": true
   },
   "outputs": [],
   "source": [
    "#Performance visualization\n",
    "\n",
    "#MSE with respect number of trees\n",
    "plt.figure(figsize=(15, 5))\n",
    "ax = plt.subplot(1, 2, 1)\n",
    "ax.set_title('Optimal Number of Trees')\n",
    "ax.set_xlabel('Number of estimators')\n",
    "ax.set_ylabel('Mean Squared Error')\n",
    "plt.plot(to_test, mse)\n",
    "ax = plt.subplot(1, 2, 2)\n",
    "ax.set_title('On average, of how many units is the prediction from the truth?')\n",
    "ax.set_xlabel('Number of estimators')\n",
    "ax.set_ylabel('Mean Absolute Error')\n",
    "plt.plot(to_test, mae)\n",
    "# plt.savefig('One_model_all_stations.png', bbox_inches='tight')\n",
    "plt.show()\n",
    "\n",
    "#Error Distribution\n",
    "y_pred=np.expand_dims(y_pred,axis=1) #for paired_distances\n",
    "absolute_error = metrics.pairwise.paired_distances(y_test,y_pred,metric='l1')\n",
    "\n",
    "fig, ax = plt.subplots(figsize=(15, 5))\n",
    "plt.title('Absolute Error Distribution (for 50 trees)')\n",
    "plt.xlabel('Absolute error',fontsize=15)\n",
    "plt.ylabel('Prediction counts',fontsize=15)\n",
    "counts, bins, patches = ax.hist(absolute_error,bins=range(int(absolute_error.max())))\n",
    "bin_centers = 0.5 * np.diff(bins) + bins[:-1]\n",
    "for count, x in zip(counts, bin_centers):\n",
    "    # Label the raw counts\n",
    "    ax.annotate(str(count), xy=(x, 0), xycoords=('data', 'axes fraction'), xytext=(0, 40), textcoords='offset points', va='top', ha='center')\n",
    "# plt.savefig('One_model_all_stations2.png', bbox_inches='tight')\n",
    "plt.show()"
   ]
  }
 ],
 "metadata": {
  "anaconda-cloud": {},
  "kernelspec": {
   "display_name": "Python [Root]",
   "language": "python",
   "name": "Python [Root]"
  },
  "language_info": {
   "codemirror_mode": {
    "name": "ipython",
    "version": 3
   },
   "file_extension": ".py",
   "mimetype": "text/x-python",
   "name": "python",
   "nbconvert_exporter": "python",
   "pygments_lexer": "ipython3",
   "version": "3.5.2"
  }
 },
 "nbformat": 4,
 "nbformat_minor": 0
}
