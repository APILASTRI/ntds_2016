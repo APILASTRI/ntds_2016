{
 "cells": [
  {
   "cell_type": "code",
   "execution_count": null,
   "metadata": {
    "collapsed": true
   },
   "outputs": [],
   "source": [
    "daily_pca = trip.pivot_table('trip_id', aggfunc='count',\n",
    "                           index=['date'], columns='hour').fillna(0)\n",
    "##adding weather data\n",
    "daily_pca['Mean_Temperature_F']=weather['Mean_Temperature_F']\n",
    "daily_pca['Precipitation_In ']=weather['Precipitation_In ']\n",
    "\n",
    "\n",
    "##adding labels to allow visualization\n",
    "daily_pca['day_of_week']=daily_pca.index.weekday\n",
    "#Clustering Days\n",
    "to_week = range(5)\n",
    "for k in to_week:\n",
    "    daily_pca.loc[(daily_pca.day_of_week == k),['day_of_week']]= 'week'\n",
    "to_end = [5,6]\n",
    "for k in to_end:\n",
    "    daily_pca.loc[(daily_pca.day_of_week == k),['day_of_week']]= 'end'\n",
    "\n",
    "daily_pca['Events']=weather['Events'].fillna(0)\n",
    "#Clustering Events\n",
    "to_one = ['Fog']\n",
    "for st in to_one:\n",
    "    daily_pca.loc[(daily_pca.Events == st),['Events']]=1\n",
    "to_two = ['Rain','Fog , Rain','Fog-Rain', 'Rain-Thunderstorm','Rain , Thunderstorm']\n",
    "for st in to_two:\n",
    "    daily_pca.loc[(daily_pca.Events == st),['Events']]=2\n",
    "to_three = ['Snow','Rain-Snow','Rain , Snow']\n",
    "for st in to_three:\n",
    "    daily_pca.loc[(daily_pca.Events == st),['Events']]=3\n",
    "    \n",
    "#Total number of trips per day\n",
    "daily_pca['total_trips'] = daily_pca.iloc[:,:23].sum(axis=1)\n",
    "\n",
    "#Last cleaning for one day\n",
    "daily_pca = daily_pca.dropna(axis=0)\n",
    "\n",
    "#Vizualization\n",
    "display(daily_pca.head())"
   ]
  }
 ],
 "metadata": {
  "anaconda-cloud": {},
  "kernelspec": {
   "display_name": "Python [Root]",
   "language": "python",
   "name": "Python [Root]"
  },
  "language_info": {
   "codemirror_mode": {
    "name": "ipython",
    "version": 3
   },
   "file_extension": ".py",
   "mimetype": "text/x-python",
   "name": "python",
   "nbconvert_exporter": "python",
   "pygments_lexer": "ipython3",
   "version": "3.5.2"
  }
 },
 "nbformat": 4,
 "nbformat_minor": 0
}
