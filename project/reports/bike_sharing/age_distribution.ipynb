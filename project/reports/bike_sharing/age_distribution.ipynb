{
 "cells": [
  {
   "cell_type": "code",
   "execution_count": null,
   "metadata": {
    "collapsed": true
   },
   "outputs": [],
   "source": [
    "# Count trips by age\n",
    "from datetime import date, timedelta\n",
    "import math\n",
    "\n",
    "def calculate_age(row):\n",
    "    today = date.today()\n",
    "    if math.isnan(row['birthyear'])== False:\n",
    "        bornYear=int(row['birthyear'])\n",
    "        bornDate= date(bornYear,6,1) #average birthdate\n",
    "        return int(today.year - bornDate.year - ((today.month, today.day) < (bornDate.month, bornDate.day)))\n",
    "\n",
    "trip['age'] = trip.apply(calculate_age, axis=1)"
   ]
  },
  {
   "cell_type": "code",
   "execution_count": null,
   "metadata": {
    "collapsed": true
   },
   "outputs": [],
   "source": [
    "# Visualization\n",
    "serie=trip.age.value_counts()\n",
    "serie=dict(age=serie.index,count_trips=serie.values)\n",
    "by_age=pd.DataFrame(serie, columns=['count_trips'], index=serie['age'])\n",
    "by_age=by_age.sort_index(axis=0)\n",
    "plt.figure(figsize=(30,10));\n",
    "plt.title('Number of trips per age',fontsize=25)\n",
    "plt.xlabel('Age',fontsize=20)\n",
    "by_age['count_trips'].plot(kind='bar',grid=True,fontsize=15);\n",
    "plt.show()"
   ]
  }
 ],
 "metadata": {
  "anaconda-cloud": {},
  "kernelspec": {
   "display_name": "Python [Root]",
   "language": "python",
   "name": "Python [Root]"
  },
  "language_info": {
   "codemirror_mode": {
    "name": "ipython",
    "version": 3
   },
   "file_extension": ".py",
   "mimetype": "text/x-python",
   "name": "python",
   "nbconvert_exporter": "python",
   "pygments_lexer": "ipython3",
   "version": "3.5.2"
  }
 },
 "nbformat": 4,
 "nbformat_minor": 0
}
