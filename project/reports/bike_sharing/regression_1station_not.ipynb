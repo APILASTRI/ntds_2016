{
 "cells": [
  {
   "cell_type": "code",
   "execution_count": null,
   "metadata": {
    "collapsed": true
   },
   "outputs": [],
   "source": [
    "# Compute Boolean Vector to select among our data\n",
    "boolean_selection = False\n",
    "for d in week:\n",
    "    boolean_selection = boolean_selection | (data_to_regress.index.date==d)\n",
    "\n",
    "inverse_boolean_selection = np.invert(boolean_selection)\n",
    "\n",
    "\n",
    "###### Numerizing the entire dataframe ######\n",
    "X = data_to_regress.loc[inverse_boolean_selection,:].as_matrix(columns=['Events','Mean_Temperature_F','Precipitation_In ','month','weekday','hour'])\n",
    "y = data_to_regress.loc[inverse_boolean_selection,:].as_matrix(columns=['daily_variation'])\n",
    "\n",
    "##### Pre-processing (Testing/Training set) #####\n",
    "test_size = X.shape[0] // 2\n",
    "print('Split: {} testing and {} training samples'.format(test_size, y.size - test_size))\n",
    "perm = np.random.permutation(y.size)\n",
    "X_train = X[perm[test_size:]]\n",
    "y_train = y[perm[test_size:]]\n",
    "\n",
    "#### Regression using Scikit Learn ####\n",
    "from sklearn import linear_model, metrics, ensemble\n",
    "\n",
    "model = ensemble.RandomForestRegressor(20)\n",
    "\n",
    "model.fit(X_train, y_train.ravel())"
   ]
  },
  {
   "cell_type": "code",
   "execution_count": null,
   "metadata": {
    "collapsed": true
   },
   "outputs": [],
   "source": [
    "#Numerizing\n",
    "X_test = data_to_regress.loc[boolean_selection,:].as_matrix(columns=['Events','Mean_Temperature_F','Precipitation_In ','month','weekday','hour'])\n",
    "y_test = data_to_regress.loc[boolean_selection,:].as_matrix(columns=['daily_variation'])\n",
    "\n",
    "#Prediction\n",
    "y_pred = model.predict(X_test)\n",
    "\n",
    "#Dataframe to compare\n",
    "comparison = data_to_regress.loc[boolean_selection,:]\n",
    "comparison ['prediction'] = pd.Series(y_pred, index=comparison.index)\n",
    "\n",
    "#Performance\n",
    "mse = metrics.mean_squared_error(y_test, y_pred)\n",
    "mae = metrics.mean_absolute_error(y_test,y_pred)\n",
    "print('mse: {:.4f}'.format(mse))\n",
    "print('mae: {:.4f}'.format(mae))\n",
    "\n",
    "# Visualization\n",
    "n = 96\n",
    "plt.figure(figsize=(15, 5))\n",
    "plt.title('Comparison Prediction and Ground truth over the first day of the week',fontsize=15)\n",
    "plt.plot(y_test[:n], '.', alpha=.7, markersize=10, label='ground truth')\n",
    "plt.plot(y_pred[:n], '.', alpha=.7, markersize=10, label='prediction')\n",
    "plt.legend()\n",
    "plt.show()\n",
    "\n",
    "# New kind of printing\n",
    "plt.figure(figsize=(30,10));\n",
    "plt.title('Comparison Prediction and Ground truth over a week',fontsize=25)\n",
    "comparison.daily_variation.plot( grid=True,fontsize=15, label='ground truth');\n",
    "comparison.prediction.plot( grid=True,fontsize=15, label='prediction');\n",
    "plt.legend(fontsize=20)\n",
    "plt.show()"
   ]
  }
 ],
 "metadata": {
  "anaconda-cloud": {},
  "kernelspec": {
   "display_name": "Python [Root]",
   "language": "python",
   "name": "Python [Root]"
  },
  "language_info": {
   "codemirror_mode": {
    "name": "ipython",
    "version": 3
   },
   "file_extension": ".py",
   "mimetype": "text/x-python",
   "name": "python",
   "nbconvert_exporter": "python",
   "pygments_lexer": "ipython3",
   "version": "3.5.2"
  }
 },
 "nbformat": 4,
 "nbformat_minor": 0
}
