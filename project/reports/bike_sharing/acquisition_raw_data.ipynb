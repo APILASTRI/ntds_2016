{
 "cells": [
  {
   "cell_type": "code",
   "execution_count": null,
   "metadata": {
    "collapsed": true
   },
   "outputs": [],
   "source": [
    "import pandas as pd\n",
    "from IPython.display import display\n",
    "pd.options.mode.chained_assignment = None  #this is to avoid some useless warnings"
   ]
  },
  {
   "cell_type": "code",
   "execution_count": null,
   "metadata": {
    "collapsed": true
   },
   "outputs": [],
   "source": [
    "station = pd.read_csv('station.csv', index_col=0)\n",
    "weather = pd.read_csv('weather.csv', index_col=0)\n",
    "trip = pd.read_csv('trip.csv',parse_dates=['starttime', 'stoptime'],\n",
    "                    infer_datetime_format=True)"
   ]
  },
  {
   "cell_type": "code",
   "execution_count": null,
   "metadata": {
    "collapsed": true
   },
   "outputs": [],
   "source": [
    "#Adding new features to raw data (used later)\n",
    "weather.index=pd.to_datetime(weather.index) #to datetime format\n",
    "ind = pd.DatetimeIndex(trip.starttime)\n",
    "trip['date'] = ind.date.astype('datetime64')\n",
    "trip['hour'] = ind.hour"
   ]
  },
  {
   "cell_type": "code",
   "execution_count": null,
   "metadata": {
    "collapsed": true
   },
   "outputs": [],
   "source": [
    "print('There are {} stations.'.format(station.shape[0]))\n",
    "print('Station database shape: {} , the 5 first lines are:'.format(station.shape))\n",
    "display(station.iloc[:5, :])\n",
    "print('\\nWe have {} days of weather data.'.format(weather.shape[0]))\n",
    "print('Weather database shape: {} , the 5 first lines are:'.format(weather.shape))\n",
    "display(weather.iloc[:5, :])\n",
    "print('\\nThere are {} trips in total.'.format(trip.shape[0]))\n",
    "print('Trip database shape: {} , the 5 first lines are:'.format(trip.shape))\n",
    "display(trip.iloc[:5, :])"
   ]
  }
 ],
 "metadata": {
  "anaconda-cloud": {},
  "kernelspec": {
   "display_name": "Python [Root]",
   "language": "python",
   "name": "Python [Root]"
  },
  "language_info": {
   "codemirror_mode": {
    "name": "ipython",
    "version": 3
   },
   "file_extension": ".py",
   "mimetype": "text/x-python",
   "name": "python",
   "nbconvert_exporter": "python",
   "pygments_lexer": "ipython3",
   "version": "3.5.2"
  }
 },
 "nbformat": 4,
 "nbformat_minor": 0
}
