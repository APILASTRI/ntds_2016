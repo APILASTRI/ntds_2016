{
 "cells": [
  {
   "cell_type": "code",
   "execution_count": null,
   "metadata": {
    "collapsed": true
   },
   "outputs": [],
   "source": [
    "# Count trips by date\n",
    "serie=trip.date.value_counts()\n",
    "serie=dict(date=serie.index,count_trips=serie.values)\n",
    "by_date=pd.DataFrame(serie, columns=['count_trips'], index=serie['date'])\n",
    "by_date=by_date.sort_index(axis=0)\n",
    "by_date['Mean_Temperature_F']=weather['Mean_Temperature_F']"
   ]
  },
  {
   "cell_type": "code",
   "execution_count": null,
   "metadata": {
    "collapsed": true
   },
   "outputs": [],
   "source": [
    "# Visualization\n",
    "import numpy as np\n",
    "import matplotlib\n",
    "import matplotlib.pyplot as plt\n",
    "plt.style.use('ggplot') #common style used through the project\n",
    "%matplotlib inline\n",
    "\n",
    "ax = by_date.plot(fontsize=20,secondary_y=['Mean_Temperature_F'],figsize=(30,10));\n",
    "ax.set_title('Temperature Influence on the Daily Number of Trips',fontsize=25)\n",
    "ax.legend(loc=2,fontsize=20)\n",
    "ax.right_ax.legend(loc=1,fontsize=20)\n",
    "ax.set_ylabel('Daily Trips Count', fontsize=20)\n",
    "ax.right_ax.set_ylabel('Mean Temperature (F)', fontsize=20)\n",
    "plt.show()"
   ]
  }
 ],
 "metadata": {
  "anaconda-cloud": {},
  "kernelspec": {
   "display_name": "Python [Root]",
   "language": "python",
   "name": "Python [Root]"
  },
  "language_info": {
   "codemirror_mode": {
    "name": "ipython",
    "version": 3
   },
   "file_extension": ".py",
   "mimetype": "text/x-python",
   "name": "python",
   "nbconvert_exporter": "python",
   "pygments_lexer": "ipython3",
   "version": "3.5.2"
  }
 },
 "nbformat": 4,
 "nbformat_minor": 0
}
