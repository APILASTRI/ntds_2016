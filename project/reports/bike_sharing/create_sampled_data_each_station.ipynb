{
 "cells": [
  {
   "cell_type": "code",
   "execution_count": null,
   "metadata": {
    "collapsed": true
   },
   "outputs": [],
   "source": [
    "#Restriction criteria 1\n",
    "\n",
    "#We would like to work only with stations which opened the 2014-10-13 and had trips until 2016-8-31\n",
    "temp1 = trip.loc[(trip.date == date(2014,10,13)),['from_station_id','to_station_id']]\n",
    "set_temp1 = set.union(set(temp1.from_station_id.values),set(temp1.from_station_id.values))\n",
    "\n",
    "temp2 = trip.loc[(trip.date == date(2015,8,31)),['from_station_id','to_station_id']]\n",
    "set_temp2 = set.union(set(temp2.from_station_id.values),set(temp2.from_station_id.values))\n",
    "\n",
    "station_ids = set.intersection(set_temp1, set_temp2)\n",
    "\n",
    "station_ids.remove('PS-04') #PS-04 to be removed (data missing)\n",
    "station_ids.remove('ID-04') #ID-04 also to be removed (data missing)\n",
    "station_ids = list(station_ids)"
   ]
  },
  {
   "cell_type": "code",
   "execution_count": null,
   "metadata": {
    "collapsed": true
   },
   "outputs": [],
   "source": [
    "#Restriction criteria 2\n",
    "\n",
    "date_start = date(2014,10,13)\n",
    "date_end = date(2016,3,18) #reduction in the number of data in order to improve computation time\n",
    "dates = [date_start + timedelta(days=x) for x in range((date_end-date_start).days + 1)]"
   ]
  },
  {
   "cell_type": "code",
   "execution_count": null,
   "metadata": {
    "collapsed": true
   },
   "outputs": [],
   "source": [
    "#Station by station (station_ids already provided)\n",
    "sampled_variation = pd.DataFrame(columns=['daily_variation','station_id']) #dataframe to store for each station\n",
    "\n",
    "for station_id in station_ids:\n",
    "    ### Instanteanous Total Variation\n",
    "    extract = trip.loc[(trip.from_station_id==station_id) | (trip.to_station_id==station_id),:]\n",
    "    extract = extract.loc[(extract.date<=date_end)&(date_start<=extract.date),:]\n",
    "    \n",
    "    def incrementation(row):\n",
    "        if (row['from_station_id']==station_id)&(row['to_station_id']==station_id):\n",
    "            return int(0)\n",
    "        if (row['from_station_id']==station_id):\n",
    "            return int(-1)\n",
    "        if (row['to_station_id']==station_id):\n",
    "            return int(1)\n",
    "    extract['incrementation'] = trip.apply(incrementation, axis=1)\n",
    "    extract = extract.set_index('trip_id')\n",
    "    \n",
    "    #Start and Stop\n",
    "    temp1 = extract.loc[(extract.incrementation==0),['starttime','stoptime','bikeid','to_station_id','incrementation']]\n",
    "    instanteanous_variation = pd.DataFrame(columns=['trip_id','time', 'bikeid', 'destination_id', 'incrementation'])\n",
    "\n",
    "    for i in range(temp1.shape[0]):\n",
    "        #-1\n",
    "        serie1 = dict(trip_id=temp1.index[i],bikeid=temp1.bikeid.values[i],destination_id=temp1.to_station_id.values[i])\n",
    "        serie1['incrementation'] = -1\n",
    "        serie1['time'] = temp1.starttime.values[i]\n",
    "    \n",
    "        #+1\n",
    "        serie2 = dict(trip_id=temp1.index[i],bikeid=temp1.bikeid.values[i],destination_id=temp1.to_station_id.values[i])\n",
    "        serie2['incrementation'] = 1\n",
    "        serie2['time'] = temp1.stoptime.values[i]\n",
    "    \n",
    "        instanteanous_variation = instanteanous_variation.append(serie1, ignore_index=True)\n",
    "        instanteanous_variation = instanteanous_variation.append(serie2, ignore_index=True)\n",
    "    instanteanous_variation = instanteanous_variation.set_index('trip_id')\n",
    "    instanteanous_variation.index = instanteanous_variation.index.astype(int) \n",
    "\n",
    "    #Stop\n",
    "    temp2 = extract.loc[(extract.incrementation==1.0),['stoptime','bikeid','from_station_id','incrementation']]\n",
    "    temp2.columns=['time','bikeid','destination_id','incrementation']\n",
    "    instanteanous_variation=instanteanous_variation.append(temp2)\n",
    "\n",
    "    #Start\n",
    "    temp3 = extract.loc[(extract.incrementation==-1.0),['starttime','bikeid','to_station_id','incrementation']]\n",
    "    temp3.columns=['time','bikeid','destination_id','incrementation']\n",
    "    instanteanous_variation=instanteanous_variation.append(temp3)\n",
    "\n",
    "    #Sort by time before doing cumulative\n",
    "    instanteanous_variation.time = pd.to_datetime(instanteanous_variation.time)\n",
    "    instanteanous_variation = instanteanous_variation.sort_values('time')\n",
    "\n",
    "    ### Resample of instanteanous_variation towards regular time step\n",
    "\n",
    "    sample_variation_station = instanteanous_variation.set_index('time').incrementation.groupby(pd.TimeGrouper(freq='15Min')).sum() #every 15Mins\n",
    "    sample_variation_station = pd.DataFrame(sample_variation_station, columns=['incrementation']) #to dataframe\n",
    "    sample_variation_station = sample_variation_station.fillna(value=0) #transform NaN to 0\n",
    "    sample_variation_station['date'] = sample_variation_station.index.date #faster access to date in the following\n",
    "\n",
    "    #From incrementation to daily_variation\n",
    "    daily = []\n",
    "    for d in dates:\n",
    "        temp = sample_variation_station.loc[(sample_variation_station.date==d),['incrementation']].cumsum().values\n",
    "        daily = np.append(daily,temp) \n",
    "    sample_variation_station['incrementation'] = pd.Series(daily, index=sample_variation_station.index)\n",
    "    sample_variation_station.columns = ['daily_variation','date']\n",
    "\n",
    "\n",
    "    #Removal of first and last day to have full periods of 24h (96 by day)\n",
    "    sample_variation_station=sample_variation_station.loc[(sample_variation_station.date!=date_start)&(sample_variation_station.date!=date_end),:]\n",
    "\n",
    "    #Adding StationId label\n",
    "    sample_variation_station['station_id'] = station_id\n",
    "\n",
    "    #Removing useless column\n",
    "    sample_variation_station = sample_variation_station.loc[:,['daily_variation','station_id']]\n",
    "    \n",
    "    #Append to final dataframe\n",
    "    sampled_variation = sampled_variation.append(sample_variation_station)\n",
    "\n",
    "#Final Cleaning\n",
    "sampled_variation = sampled_variation.loc[sampled_variation.index.date != date(2016,3,17),:]"
   ]
  },
  {
   "cell_type": "code",
   "execution_count": null,
   "metadata": {
    "collapsed": true
   },
   "outputs": [],
   "source": [
    "#Update of dates\n",
    "date_start = date(2014,10,13)\n",
    "date_end = date(2016,3,17) #reduction in the number of data in order to improve computation time\n",
    "dates = [date_start + timedelta(days=x) for x in range((date_end-date_start).days + 1)]"
   ]
  }
 ],
 "metadata": {
  "anaconda-cloud": {},
  "kernelspec": {
   "display_name": "Python [Root]",
   "language": "python",
   "name": "Python [Root]"
  },
  "language_info": {
   "codemirror_mode": {
    "name": "ipython",
    "version": 3
   },
   "file_extension": ".py",
   "mimetype": "text/x-python",
   "name": "python",
   "nbconvert_exporter": "python",
   "pygments_lexer": "ipython3",
   "version": "3.5.2"
  }
 },
 "nbformat": 4,
 "nbformat_minor": 0
}
