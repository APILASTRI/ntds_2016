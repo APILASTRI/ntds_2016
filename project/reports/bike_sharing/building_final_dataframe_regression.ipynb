{
 "cells": [
  {
   "cell_type": "code",
   "execution_count": null,
   "metadata": {
    "collapsed": true
   },
   "outputs": [],
   "source": [
    "#Concatenate dataframes to regress on later\n",
    "columns_weather = ['Events','Mean_Temperature_F','Precipitation_In '] #weather data we will use for the regression\n",
    "\n",
    "# Compute Boolean Vector to select among our data\n",
    "boolean_selection = False\n",
    "for d in dates:\n",
    "    boolean_selection = boolean_selection | (weather.index.date==d)\n",
    "\n",
    "extract_weather = weather.loc[(boolean_selection),columns_weather]\n",
    "repeat_weather = pd.concat([extract_weather.loc[(extract_weather.index.date!=date_start)&(extract_weather.index.date!=date_end),:]]*96).sort_index(axis=0)# repeated 96 times every day\n",
    "repeat_weather.index = sampled_variation.loc[(sampled_variation.station_id == station_ids[0]),:].index #same index to ease concatenation\n",
    "repeat_weather = pd.concat([repeat_weather]*len(station_ids))\n",
    "\n",
    "data_to_regress = pd.concat([repeat_weather,sampled_variation],axis=1) #original data to regress on (need then to be numerized)\n",
    "\n",
    "#Adding a few useful features\n",
    "data_to_regress['month'] = data_to_regress.index.month\n",
    "data_to_regress['weekday'] = data_to_regress.index.dayofweek\n",
    "data_to_regress['hour'] = data_to_regress.index.hour + data_to_regress.index.minute/60\n",
    "\n",
    "display(data_to_regress.head())"
   ]
  },
  {
   "cell_type": "code",
   "execution_count": null,
   "metadata": {
    "collapsed": true
   },
   "outputs": [],
   "source": [
    "#Visualization (not used here)\n",
    "# station_to_visualize = station_ids[1]\n",
    "# view_per_station = data_to_regress.loc[(data_to_regress.station_id==station_to_visualize),:]\n",
    "\n",
    "# plt.figure()\n",
    "# plt.title('Average Daily Variation per Month @ ' + station_to_visualize, fontsize=20)\n",
    "# view_per_station.daily_variation.groupby(view_per_station.index.month).mean().plot(kind='bar', figsize=(30,10), fontsize=20);\n",
    "# plt.figure()\n",
    "# plt.title('Average Daily Variation per Hour (mean) @ ' + station_to_visualize, fontsize=20)\n",
    "# view_per_station.daily_variation.groupby(view_per_station.index.hour).mean().plot(kind='bar', figsize=(30,10), fontsize=20);"
   ]
  }
 ],
 "metadata": {
  "anaconda-cloud": {},
  "kernelspec": {
   "display_name": "Python [Root]",
   "language": "python",
   "name": "Python [Root]"
  },
  "language_info": {
   "codemirror_mode": {
    "name": "ipython",
    "version": 3
   },
   "file_extension": ".py",
   "mimetype": "text/x-python",
   "name": "python",
   "nbconvert_exporter": "python",
   "pygments_lexer": "ipython3",
   "version": "3.5.2"
  }
 },
 "nbformat": 4,
 "nbformat_minor": 0
}
