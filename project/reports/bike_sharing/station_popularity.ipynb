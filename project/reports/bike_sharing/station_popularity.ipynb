{
 "cells": [
  {
   "cell_type": "code",
   "execution_count": null,
   "metadata": {
    "collapsed": true
   },
   "outputs": [],
   "source": [
    "#Building Dataframe for popularity of stations\n",
    "station_popularity = trip.pivot_table('trip_id', aggfunc='count', index=['from_station_id'])\n",
    "station_popularity = pd.DataFrame(station_popularity)\n",
    "station_popularity.columns = ['Nber_starts']\n",
    "station_popularity.index.names = ['station_id']\n",
    "station_popularity['Nber_stops']= trip.pivot_table('trip_id', aggfunc='count', index=['to_station_id'])\n",
    "display(station_popularity.head())\n",
    "\n",
    "#Visualization\n",
    "ax = station_popularity.sort_values('Nber_starts',ascending=False).plot(kind='bar', figsize = (30,10), fontsize = 15)\n",
    "ax.set_title('Start Station Popularity',fontsize=25)\n",
    "ax.set_ylabel('Total Number of Trips',fontsize=15)\n",
    "ax.legend(fontsize=15)\n",
    "plt.show()"
   ]
  }
 ],
 "metadata": {
  "anaconda-cloud": {},
  "kernelspec": {
   "display_name": "Python [Root]",
   "language": "python",
   "name": "Python [Root]"
  },
  "language_info": {
   "codemirror_mode": {
    "name": "ipython",
    "version": 3
   },
   "file_extension": ".py",
   "mimetype": "text/x-python",
   "name": "python",
   "nbconvert_exporter": "python",
   "pygments_lexer": "ipython3",
   "version": "3.5.2"
  }
 },
 "nbformat": 4,
 "nbformat_minor": 0
}
