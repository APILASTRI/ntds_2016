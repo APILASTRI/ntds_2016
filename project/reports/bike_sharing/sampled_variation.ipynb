{
 "cells": [
  {
   "cell_type": "code",
   "execution_count": null,
   "metadata": {
    "collapsed": true
   },
   "outputs": [],
   "source": [
    "sampled_variation = instanteanous_variation.set_index('time').incrementation.groupby(pd.TimeGrouper(freq='15Min')).sum() #every 15Mins\n",
    "sampled_variation = pd.DataFrame(sampled_variation, columns=['incrementation']) #to dataframe\n",
    "sampled_variation = sampled_variation.fillna(value=0) #transform NaN to 0\n",
    "sampled_variation['date'] = sampled_variation.index.date #faster access to date in the following\n",
    "\n",
    "#From incrementation to daily_variation\n",
    "daily = []\n",
    "for d in dates:\n",
    "    temp = sampled_variation.loc[(sampled_variation.date==d),['incrementation']].cumsum().values\n",
    "    daily = np.append(daily,temp) \n",
    "sampled_variation['incrementation'] = pd.Series(daily, index=sampled_variation.index)\n",
    "sampled_variation.columns = ['daily_variation','date']\n",
    "\n",
    "#Removal of first and last day to have full periods of 24h (96 by day)\n",
    "sampled_variation=sampled_variation.loc[(sampled_variation.date!=date_start)&(sampled_variation.date!=date_end),:]"
   ]
  },
  {
   "cell_type": "code",
   "execution_count": null,
   "metadata": {
    "collapsed": true
   },
   "outputs": [],
   "source": [
    "#Visualizion of sampled_variation to compare with instanteanous_variation\n",
    "\n",
    "#Compute Boolean Vector to select among our data\n",
    "boolean_selection = False\n",
    "for d in week_to_visualize:\n",
    "    boolean_selection = boolean_selection | (sampled_variation.date==d)\n",
    "\n",
    "plt.figure(figsize=(30,10))\n",
    "sampled_variation.loc[(boolean_selection),'daily_variation'].plot(kind='line', fontsize=15)\n",
    "plt.title('Sampled Daily Variation Every 15mins Over 1 Week', fontsize=20)\n",
    "plt.ylabel('Sampled Daily Variation', fontsize=15)\n",
    "plt.show()"
   ]
  }
 ],
 "metadata": {
  "anaconda-cloud": {},
  "kernelspec": {
   "display_name": "Python [Root]",
   "language": "python",
   "name": "Python [Root]"
  },
  "language_info": {
   "codemirror_mode": {
    "name": "ipython",
    "version": 3
   },
   "file_extension": ".py",
   "mimetype": "text/x-python",
   "name": "python",
   "nbconvert_exporter": "python",
   "pygments_lexer": "ipython3",
   "version": "3.5.2"
  }
 },
 "nbformat": 4,
 "nbformat_minor": 0
}
