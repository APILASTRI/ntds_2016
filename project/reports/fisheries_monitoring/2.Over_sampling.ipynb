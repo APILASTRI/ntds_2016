{
 "cells": [
  {
   "cell_type": "markdown",
   "metadata": {
    "collapsed": true
   },
   "source": [
    "## Over sampling\n",
    "\n",
    "It has been seen that there are very few sample images for some of the species. For example, for LAG there are only 67, 117 for DOL or 176 for SHARK. Since we have a deep neural network, we will need a lot of training images to avoid overfitting. Therefore it is crucial to do a good oversampling. Here we work with the cropped images of the fishes. \n",
    "\n",
    "Instead of just making copies of the images, we modify them slightly each time, so they are different and they don't overfit the classifier too much. We use two ways of modifying: rotation and flipping. We could also use others like stretching or changin the brighness. For rotation we rotate the image either 0, 90, 180 or 270 degrees. We don't rotate any other angle because we could either lose information (if we keep the same size we would lose the corners) or add more white pixels like in the image resizing that is explained in other notebook (by doing the image bigger). For flipping we flip the image either horizontally or vertically. Each iteration one operation is chosen randomly and performed on the image.\n",
    "\n",
    "There are two ways of setting the number of copies. The first one is by manually writing the number for each class. The second one is based in that what we want is to have the same certain number of images per class. Therefore we pass this number and depending on the amont of images of each class it will automatically compute the number of copies of each image.\n",
    "\n",
    "This notebook was very handy to create all the training data for the classifier."
   ]
  },
  {
   "cell_type": "code",
   "execution_count": null,
   "metadata": {
    "collapsed": true
   },
   "outputs": [],
   "source": [
    "import numpy as np\n",
    "import scipy\n",
    "import os\n",
    "from SimpleCV import *\n",
    "import cv2\n",
    "import matplotlib.pyplot as plt\n",
    "%matplotlib inline\n",
    "plt.rcParams['figure.figsize'] = (10.0, 8.0) # set default size of plots\n",
    "plt.rcParams['image.interpolation'] = 'nearest'\n",
    "plt.rcParams['image.cmap'] = 'gray'\n",
    "from skimage import color\n",
    "from PIL import Image\n",
    "import imutils"
   ]
  },
  {
   "cell_type": "code",
   "execution_count": 6,
   "metadata": {
    "collapsed": false,
    "scrolled": true
   },
   "outputs": [
    {
     "name": "stdout",
     "output_type": "stream",
     "text": [
      "ALB finished\n",
      "LAG finished\n",
      "DOL finished\n",
      "SHARK finished\n",
      "YFT finished\n",
      "BET finished\n"
     ]
    }
   ],
   "source": [
    "def choose_operation():\n",
    "    operations = ['rotation','flipping']\n",
    "    operation = np.random.randint(0,len(operations))\n",
    "    return operations[operation]\n",
    "\n",
    "def rotation(image):\n",
    "    angle = np.random.choice((0,90,180,270))\n",
    "    image = imutils.rotate_bound(image,angle)\n",
    "    return image\n",
    "\n",
    "def flipping(image):\n",
    "    flip = np.random.randint(0,2)\n",
    "    if flip == 0:\n",
    "        image = cv2.flip(image,0)\n",
    "    else:\n",
    "        image = cv2.flip(image,1)            \n",
    "    return image\n",
    "\n",
    "\n",
    "def determine_copies(classes): \n",
    "    if classes == 'ALB':\n",
    "        copies = 2\n",
    "    if classes == 'BET':\n",
    "        copies = 10\n",
    "    if classes == 'DOL':\n",
    "        copies = 50\n",
    "    if classes == 'LAG':\n",
    "        copies = 54\n",
    "    if classes == 'SHARK':\n",
    "        copies = 26\n",
    "    if classes == 'YFT':\n",
    "        copies = 3\n",
    "    return copies\n",
    "    \n",
    "    \n",
    "\n",
    "fish_classes = ['ALB','LAG','DOL','SHARK','YFT','BET']\n",
    "number_classes = len(fish_classes)\n",
    "number_final = 600\n",
    "main_load_path = '../train_cut'\n",
    "main_save_path = '../train_cut_oversample'\n",
    "\n",
    "for classes in fish_classes:\n",
    "    path_class = os.path.join(main_load_path,classes)\n",
    "    if classes=='ALB' or classes=='BET' or classes=='YFT':\n",
    "        save_path = os.path.join(main_save_path,'TUNA')\n",
    "    else:\n",
    "        save_path = os.path.join(main_save_path,classes)  \n",
    "    \n",
    "    if not os.path.exists(save_path):\n",
    "            os.makedirs(save_path)\n",
    "    number_original = float(len(os.listdir(path_class)))\n",
    "    copies_per_image = determine_copies(classes)\n",
    "    #copies_per_image = int(round(number_final/number_original))\n",
    "    for image in os.listdir(path_class):\n",
    "        path = os.path.join(path_class,image)\n",
    "        im_initial = cv2.imread(path)\n",
    "        for iteration in range(0,copies_per_image):\n",
    "            name = str(np.random.randn()) + '_'+str(iteration)+ '.jpg'\n",
    "            if iteration == 0:\n",
    "                im = Image.fromarray(im_initial)\n",
    "                im.save(save_path+'/'+name)\n",
    "            else:\n",
    "                operation = choose_operation()\n",
    "                \n",
    "                if operation == 'rotation':\n",
    "                    im = np.array(im_initial)\n",
    "                    im = rotation(im)\n",
    "                    name = str(np.random.randn()) + '_'+str(iteration)+ '.jpg'\n",
    "                if operation == 'flipping':\n",
    "                    im = np.array(im_initial)\n",
    "                    im = flipping(im)\n",
    "                    name = str(np.random.randn()) + '_'+str(iteration)+ '.jpg'\n",
    "            im = np.array(im)\n",
    "            im = cv2.cvtColor(im,cv2.COLOR_BGR2RGB)\n",
    "            im = Image.fromarray(im)\n",
    "            \n",
    "            im.save(save_path+'/'+name)\n",
    "    print(classes+' finished')\n",
    "        \n",
    "       \n",
    "     \n",
    "\n"
   ]
  }
 ],
 "metadata": {
  "kernelspec": {
   "display_name": "Python 2",
   "language": "python",
   "name": "python2"
  },
  "language_info": {
   "codemirror_mode": {
    "name": "ipython",
    "version": 2
   },
   "file_extension": ".py",
   "mimetype": "text/x-python",
   "name": "python",
   "nbconvert_exporter": "python",
   "pygments_lexer": "ipython2",
   "version": "2.7.12"
  }
 },
 "nbformat": 4,
 "nbformat_minor": 2
}
