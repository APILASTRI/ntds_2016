{
 "cells": [
  {
   "cell_type": "markdown",
   "metadata": {},
   "source": [
    "# A Network Tour of Data Science\n",
    "\n",
    "[Michaël Defferrard](http://deff.ch), *PhD student*, [Pierre Vandergheynst](https://people.epfl.ch/pierre.vandergheynst), *Full Professor*, [EPFL](http://epfl.ch) [LTS2](http://lts2.epfl.ch).\n",
    "\n",
    "# Assignment 4: Transductive Learning using Graphs\n",
    "\n",
    "Transduction is reasoning from observed, specific (training) cases to specific (test) cases. For this assignment, the task is to infer missing values in some dataset, while the training and testing cases are available to construct a graph. The exercise consists of two parts: (1) construct some artificial data and (2) retrieve the missing values and measure performance."
   ]
  },
  {
   "cell_type": "markdown",
   "metadata": {},
   "source": [
    "## 1 Smooth graph signal\n",
    "\n",
    "Let $\\mathcal{G} = (\\mathcal{V}, W)$ be a graph of vertex set $\\mathcal{V}$ and weighted adjacency matrix $W$."
   ]
  },
  {
   "cell_type": "code",
   "execution_count": null,
   "metadata": {
    "collapsed": false
   },
   "outputs": [],
   "source": [
    "import numpy as np\n",
    "import scipy.io\n",
    "import matplotlib.pyplot as plt\n",
    "%matplotlib inline\n",
    "import os.path\n",
    "\n",
    "X = scipy.io.mmread(os.path.join('datasets', 'graph_inpainting', 'embedding.mtx'))\n",
    "W = scipy.io.mmread(os.path.join('datasets', 'graph_inpainting', 'graph.mtx'))\n",
    "N = W.shape[0]\n",
    "\n",
    "print('N = |V| = {}, k|V| < |E| = {}'.format(N, W.nnz))\n",
    "plt.spy(W, markersize=2, color='black');"
   ]
  },
  {
   "cell_type": "markdown",
   "metadata": {},
   "source": [
    "Design a technique to construct smooth scalar signals $x \\in \\mathbb{R}^N$ over the graph $\\mathcal{G}$.\n",
    "\n",
    "Hint:\n",
    "* This part is related to our [last exercise](07_ex_graph_fourier.ipynb).\n",
    "* There is multiple ways to do this, another is to filter random signals."
   ]
  },
  {
   "cell_type": "code",
   "execution_count": null,
   "metadata": {
    "collapsed": false
   },
   "outputs": [],
   "source": [
    "# Fourier basis.\n",
    "D = W.sum(axis=0)\n",
    "D = scipy.sparse.diags(D.A.squeeze(), 0)\n",
    "L = D - W\n",
    "lamb, U = np.linalg.eigh(L.toarray())\n",
    "\n",
    "# Low-pass filters.\n",
    "\n",
    "def f1(u, a=4):\n",
    "    y = np.zeros(u.shape)\n",
    "    y[:a] = 1\n",
    "    return y\n",
    "def f2(u, m=4):\n",
    "    return np.maximum(1 - m * u / u[-1], 0)\n",
    "def f3(u, a=0.8):\n",
    "    return np.exp(-u / a)\n",
    "\n",
    "# Random signal.\n",
    "x = np.random.uniform(-1, 1, size=W.shape[0])\n",
    "xhat = U.T.dot(x)\n",
    "\n",
    "fig, ax = plt.subplots(1, 2, figsize=(15, 5))\n",
    "ax[0].plot(lamb, xhat, '.-')\n",
    "ax[0].set_title('Random signal spectrum')\n",
    "ax[1].scatter(X[:, 0], X[:, 1], c=x, s=40, linewidths=0)\n",
    "ax[1].set_title('Random signal')\n",
    "\n",
    "# Smooth signal through filtering.\n",
    "xhat *= f3(lamb)\n",
    "x = U.dot(xhat)\n",
    "\n",
    "M = x.T.dot(L.dot(x))\n",
    "print('M = x^T L x = {}'.format(M))\n",
    "\n",
    "fig, ax = plt.subplots(1, 2, figsize=(15, 5))\n",
    "ax[0].set_title('Smooth signal spectrum')\n",
    "ax[0].plot(lamb, abs(xhat), '.-', label='spectrum |U^T x|')\n",
    "#ax[0].plot(lamb, np.sqrt(M/lamb))\n",
    "ax[0].plot(lamb[1:], np.sqrt(M/lamb[1:]), label='Decay associated with smoothness M')\n",
    "ax[0].legend()\n",
    "ax[1].scatter(X[:, 0], X[:, 1], c=x, s=40, linewidths=0)\n",
    "ax[1].set_title('Smooth signal');"
   ]
  },
  {
   "cell_type": "markdown",
   "metadata": {},
   "source": [
    "## 2 Graph Signal Inpainting\n",
    "\n",
    "Let $y$ be a signal obtained by observing $n$ out the $N$ entries of a smooth signal $x$. Design and implement a procedure to infer the missing values and test its average accuracy $\\| x^\\ast - x \\|_2^2$ as a function of $n/N$ on a test set of signals created using the technique developed above.\n",
    "\n",
    "First complete the equations below, then do the implementation.\n",
    "\n",
    "Observation:\n",
    "$$y = Ax$$\n",
    "where $A$ is a diagonal masking matrix with $\\operatorname{diag(A)} \\in \\{0,1\\}^N$.\n",
    "\n",
    "Optimization problem:\n",
    "$$x^\\ast = \\operatorname{arg } \\min_x \\frac{\\tau}{2} \\|Ax - y\\|_2^2 + \\frac12 x^T L x$$\n",
    "where $\\|Ax - y\\|_2^2$ is the fidelity term and \n",
    "$x^T L x = \\sum_{u \\sim v} w(u,v) (x(u) - x(v))^2$ is the smoothness prior.\n",
    "\n",
    "Optimal solution (by putting the derivative to zero):\n",
    "$$\\tau Ax^\\ast - \\tau y + L x^\\ast = 0\n",
    "\\hspace{0.3cm} \\rightarrow \\hspace{0.3cm}\n",
    "x^\\ast = (\\tau A + L)^{-1} \\tau y$$\n",
    "\n",
    "Hint: in the end the solution should be a linear system of equations, to be solved with `np.linalg.solve()`."
   ]
  },
  {
   "cell_type": "code",
   "execution_count": null,
   "metadata": {
    "collapsed": false
   },
   "outputs": [],
   "source": [
    "tau = 1e5  # Balance between fidelity and smoothness prior.\n",
    "num = 100  # Number of signals and masks to generate.\n",
    "\n",
    "# Percentage of values to keep.\n",
    "probs = [0.4, 0.5, 0.6, 0.7, 0.8, 0.9, 0, 0.1, 0.2, 0.3]\n",
    "\n",
    "errors = []\n",
    "for p in probs:\n",
    "    mse = 0\n",
    "    for _ in range(num):\n",
    "        # Smooth signal.\n",
    "        x = np.random.uniform(-1, 1, size=W.shape[0])\n",
    "        xhat = U.T.dot(x) * f3(lamb)\n",
    "        x = U.dot(xhat)\n",
    "\n",
    "        # Observation.\n",
    "        A = np.diag(np.random.uniform(size=N) < p)\n",
    "        y = A.dot(x)\n",
    "\n",
    "        # Reconstruction.\n",
    "        x_sol = np.linalg.solve(tau * A + L, tau * y)\n",
    "        mse += np.linalg.norm(x - x_sol)**2\n",
    "    errors.append(mse / num)\n",
    "\n",
    "# Show one example.\n",
    "fig, ax = plt.subplots(1, 3, figsize=(15, 5))\n",
    "param = dict(s=40, vmin=min(x), vmax=max(x), linewidths=0)\n",
    "ax[0].scatter(X[:, 0], X[:, 1], c=x, **param)\n",
    "ax[1].scatter(X[:, 0], X[:, 1], c=y, **param)\n",
    "ax[2].scatter(X[:, 0], X[:, 1], c=x_sol, **param)\n",
    "ax[0].set_title('Ground truth')\n",
    "ax[1].set_title('Observed signal (missing values set to 0)')\n",
    "ax[2].set_title('Inpainted signal')\n",
    "\n",
    "print('|x-y|_2^2 = {:5f}'.format(np.linalg.norm(x - y)**2))\n",
    "print('|x-x*|_2^2 = {:5f}'.format(np.linalg.norm(x - x_sol)**2))\n",
    "\n",
    "# Show reconstruction error w.r.t. percentage of observed values.\n",
    "plt.figure(figsize=(15, 5))\n",
    "plt.semilogy(probs, errors, '.', markersize=10)\n",
    "plt.xlabel('Percentage of observed values n/N')\n",
    "plt.ylabel('Reconstruction error |x* - x|_2^2');"
   ]
  }
 ],
 "metadata": {
  "kernelspec": {
   "display_name": "Python 3",
   "language": "python",
   "name": "python3"
  },
  "language_info": {
   "codemirror_mode": {
    "name": "ipython",
    "version": 3
   },
   "file_extension": ".py",
   "mimetype": "text/x-python",
   "name": "python",
   "nbconvert_exporter": "python",
   "pygments_lexer": "ipython3",
   "version": "3.6.0"
  }
 },
 "nbformat": 4,
 "nbformat_minor": 1
}
