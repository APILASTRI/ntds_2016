{
 "cells": [
  {
   "cell_type": "markdown",
   "metadata": {},
   "source": [
    "# A Python Tour of Data Science: Data Acquisition & Exploration     \n",
    "\n",
    "[Michaël Defferrard](http://deff.ch), *PhD student*, [EPFL](http://epfl.ch) [LTS2](http://lts2.epfl.ch)"
   ]
  },
  {
   "cell_type": "markdown",
   "metadata": {},
   "source": [
    "# Exercise: problem definition\n",
    "\n",
    "Theme of the exercise: **understand the impact of your communication on social networks**. A real life situation: the marketing team needs help in identifying which were the most engaging posts they made on social platforms to prepare their next [AdWords](https://www.google.com/adwords/) campaign.\n",
    "\n",
    "This notebook is the second part of the exercise. Given the data we collected from Facebook an Twitter in the last exercise, we will construct an ML model and evaluate how good it is to predict the number of likes of a post / tweet given the content."
   ]
  },
  {
   "cell_type": "markdown",
   "metadata": {},
   "source": [
    "# 1 Data importation\n",
    "\n",
    "1. Use `pandas` to import the `facebook.sqlite` and `twitter.sqlite` databases.\n",
    "2. Print the 5 first rows of both tables.\n",
    "\n",
    "The `facebook.sqlite` and `twitter.sqlite` SQLite databases can be created by running the [data acquisition and exploration exercise](01_sol_acquisition_exploration.ipynb)."
   ]
  },
  {
   "cell_type": "code",
   "execution_count": 1,
   "metadata": {
    "collapsed": false
   },
   "outputs": [
    {
     "data": {
      "text/html": [
       "<div>\n",
       "<table border=\"1\" class=\"dataframe\">\n",
       "  <thead>\n",
       "    <tr style=\"text-align: right;\">\n",
       "      <th></th>\n",
       "      <th>id</th>\n",
       "      <th>text</th>\n",
       "      <th>time</th>\n",
       "      <th>likes</th>\n",
       "      <th>comments</th>\n",
       "    </tr>\n",
       "    <tr>\n",
       "      <th>index</th>\n",
       "      <th></th>\n",
       "      <th></th>\n",
       "      <th></th>\n",
       "      <th></th>\n",
       "      <th></th>\n",
       "    </tr>\n",
       "  </thead>\n",
       "  <tbody>\n",
       "    <tr>\n",
       "      <th>0</th>\n",
       "      <td>107201356009441_1349732228423008</td>\n",
       "      <td>Découvrez les photos du tournage de notre band...</td>\n",
       "      <td>2016-10-24 09:56:21</td>\n",
       "      <td>24</td>\n",
       "      <td>0</td>\n",
       "    </tr>\n",
       "    <tr>\n",
       "      <th>1</th>\n",
       "      <td>107201356009441_1346592535403644</td>\n",
       "      <td>Two architecture student turn downtown Lausann...</td>\n",
       "      <td>2016-10-21 17:00:01</td>\n",
       "      <td>143</td>\n",
       "      <td>1</td>\n",
       "    </tr>\n",
       "    <tr>\n",
       "      <th>2</th>\n",
       "      <td>107201356009441_1346583242071240</td>\n",
       "      <td>Adding a single chemical when making biofuels ...</td>\n",
       "      <td>2016-10-21 13:20:04</td>\n",
       "      <td>42</td>\n",
       "      <td>0</td>\n",
       "    </tr>\n",
       "    <tr>\n",
       "      <th>3</th>\n",
       "      <td>107201356009441_1345683875494510</td>\n",
       "      <td>Une très belle lumière ce soir sur le campus!</td>\n",
       "      <td>2016-10-20 17:07:48</td>\n",
       "      <td>531</td>\n",
       "      <td>6</td>\n",
       "    </tr>\n",
       "    <tr>\n",
       "      <th>4</th>\n",
       "      <td>107201356009441_1345641658832065</td>\n",
       "      <td>New online programs offered by the EPFL Extens...</td>\n",
       "      <td>2016-10-20 16:26:03</td>\n",
       "      <td>80</td>\n",
       "      <td>2</td>\n",
       "    </tr>\n",
       "  </tbody>\n",
       "</table>\n",
       "</div>"
      ],
      "text/plain": [
       "                                     id  \\\n",
       "index                                     \n",
       "0      107201356009441_1349732228423008   \n",
       "1      107201356009441_1346592535403644   \n",
       "2      107201356009441_1346583242071240   \n",
       "3      107201356009441_1345683875494510   \n",
       "4      107201356009441_1345641658832065   \n",
       "\n",
       "                                                    text                time  \\\n",
       "index                                                                          \n",
       "0      Découvrez les photos du tournage de notre band... 2016-10-24 09:56:21   \n",
       "1      Two architecture student turn downtown Lausann... 2016-10-21 17:00:01   \n",
       "2      Adding a single chemical when making biofuels ... 2016-10-21 13:20:04   \n",
       "3          Une très belle lumière ce soir sur le campus! 2016-10-20 17:07:48   \n",
       "4      New online programs offered by the EPFL Extens... 2016-10-20 16:26:03   \n",
       "\n",
       "       likes  comments  \n",
       "index                   \n",
       "0         24         0  \n",
       "1        143         1  \n",
       "2         42         0  \n",
       "3        531         6  \n",
       "4         80         2  "
      ]
     },
     "metadata": {},
     "output_type": "display_data"
    },
    {
     "data": {
      "text/html": [
       "<div>\n",
       "<table border=\"1\" class=\"dataframe\">\n",
       "  <thead>\n",
       "    <tr style=\"text-align: right;\">\n",
       "      <th></th>\n",
       "      <th>id</th>\n",
       "      <th>text</th>\n",
       "      <th>time</th>\n",
       "      <th>likes</th>\n",
       "      <th>shares</th>\n",
       "    </tr>\n",
       "    <tr>\n",
       "      <th>index</th>\n",
       "      <th></th>\n",
       "      <th></th>\n",
       "      <th></th>\n",
       "      <th></th>\n",
       "      <th></th>\n",
       "    </tr>\n",
       "  </thead>\n",
       "  <tbody>\n",
       "    <tr>\n",
       "      <th>0</th>\n",
       "      <td>789509789755830272</td>\n",
       "      <td>Architecture students design a car-free Lausan...</td>\n",
       "      <td>2016-10-21 16:52:56</td>\n",
       "      <td>8</td>\n",
       "      <td>7</td>\n",
       "    </tr>\n",
       "    <tr>\n",
       "      <th>1</th>\n",
       "      <td>789500337619083264</td>\n",
       "      <td>A vitamin could help treat Duchenne muscular d...</td>\n",
       "      <td>2016-10-21 16:15:23</td>\n",
       "      <td>1</td>\n",
       "      <td>2</td>\n",
       "    </tr>\n",
       "    <tr>\n",
       "      <th>2</th>\n",
       "      <td>789492707790028800</td>\n",
       "      <td>RT @epfl_exts: Thanks to @EPFL president Patri...</td>\n",
       "      <td>2016-10-21 15:45:04</td>\n",
       "      <td>0</td>\n",
       "      <td>6</td>\n",
       "    </tr>\n",
       "    <tr>\n",
       "      <th>3</th>\n",
       "      <td>789471927735840768</td>\n",
       "      <td>A single chemical can transform a waste produc...</td>\n",
       "      <td>2016-10-21 14:22:29</td>\n",
       "      <td>5</td>\n",
       "      <td>5</td>\n",
       "    </tr>\n",
       "    <tr>\n",
       "      <th>4</th>\n",
       "      <td>789470735093956608</td>\n",
       "      <td>RT @physorg_com: Turning biofuel waste into we...</td>\n",
       "      <td>2016-10-21 14:17:45</td>\n",
       "      <td>0</td>\n",
       "      <td>12</td>\n",
       "    </tr>\n",
       "  </tbody>\n",
       "</table>\n",
       "</div>"
      ],
      "text/plain": [
       "                       id                                               text  \\\n",
       "index                                                                          \n",
       "0      789509789755830272  Architecture students design a car-free Lausan...   \n",
       "1      789500337619083264  A vitamin could help treat Duchenne muscular d...   \n",
       "2      789492707790028800  RT @epfl_exts: Thanks to @EPFL president Patri...   \n",
       "3      789471927735840768  A single chemical can transform a waste produc...   \n",
       "4      789470735093956608  RT @physorg_com: Turning biofuel waste into we...   \n",
       "\n",
       "                     time  likes  shares  \n",
       "index                                     \n",
       "0     2016-10-21 16:52:56      8       7  \n",
       "1     2016-10-21 16:15:23      1       2  \n",
       "2     2016-10-21 15:45:04      0       6  \n",
       "3     2016-10-21 14:22:29      5       5  \n",
       "4     2016-10-21 14:17:45      0      12  "
      ]
     },
     "metadata": {},
     "output_type": "display_data"
    }
   ],
   "source": [
    "import pandas as pd\n",
    "import numpy as np\n",
    "from IPython.display import display\n",
    "import os.path\n",
    "\n",
    "folder = os.path.join('..', 'data', 'social_media')\n",
    "\n",
    "fb = pd.read_sql('facebook', 'sqlite:///' + os.path.join(folder, 'facebook.sqlite'), index_col='index')\n",
    "tw = pd.read_sql('twitter', 'sqlite:///' + os.path.join(folder, 'twitter.sqlite'), index_col='index')\n",
    "\n",
    "display(fb[:5])\n",
    "display(tw[:5])"
   ]
  },
  {
   "cell_type": "markdown",
   "metadata": {},
   "source": [
    "# 2 Vectorization\n",
    "\n",
    "First step: transform the data into a format understandable by the machine. What to do with text ? A common choice is the so-called [*bag-of-word*](https://en.wikipedia.org/wiki/Bag-of-words_model) model, where we represent each word a an integer and simply count the number of appearances of a word into a document.\n",
    "\n",
    "**Example**\n",
    "\n",
    "Let's say we have a vocabulary represented by the following correspondance table.\n",
    "\n",
    "| Integer | Word    |\n",
    "|:-------:|---------|\n",
    "|    0    | unknown |\n",
    "|    1    | dog     |\n",
    "|    2    | school  |\n",
    "|    3    | cat     |\n",
    "|    4    | house   |\n",
    "|    5    | work    |\n",
    "|    6    | animal  |\n",
    "\n",
    "Then we can represent the following document\n",
    "> I have a cat. Cats are my preferred animals.\n",
    "\n",
    "by the vector $x = [6, 0, 0, 2, 0, 0, 1]^T$.\n",
    "\n",
    "**Tasks**\n",
    "\n",
    "1. Construct a vocabulary of the 100 most occuring words in your dataset.\n",
    "2. Build a vector $x \\in \\mathbb{R}^{100}$ for each document (post or tweet).\n",
    "\n",
    "Tip: the natural language modeling libraries [nltk](http://www.nltk.org/) and [gensim](https://radimrehurek.com/gensim/) are useful for advanced operations. You don't need them here.\n",
    "\n",
    "Arise a first *data cleaning* question. We may have some text in french and other in english. What do we do ?"
   ]
  },
  {
   "cell_type": "code",
   "execution_count": 2,
   "metadata": {
    "collapsed": false
   },
   "outputs": [
    {
     "data": {
      "text/plain": [
       "<816x200 sparse matrix of type '<class 'numpy.int64'>'\n",
       "\twith 12139 stored elements in Compressed Sparse Row format>"
      ]
     },
     "metadata": {},
     "output_type": "display_data"
    },
    {
     "data": {
      "text/plain": [
       "['lire',\n",
       " 'ly',\n",
       " 'mars',\n",
       " 'martin',\n",
       " 'master',\n",
       " 'may',\n",
       " 'monde',\n",
       " 'more',\n",
       " 'new',\n",
       " 'nous']"
      ]
     },
     "metadata": {},
     "output_type": "display_data"
    },
    {
     "data": {
      "text/plain": [
       "<3211x200 sparse matrix of type '<class 'numpy.int64'>'\n",
       "\twith 25217 stored elements in Compressed Sparse Row format>"
      ]
     },
     "metadata": {},
     "output_type": "display_data"
    }
   ],
   "source": [
    "from sklearn.feature_extraction.text import CountVectorizer\n",
    "\n",
    "nwords = 200  # 100\n",
    "\n",
    "def compute_bag_of_words(text, nwords):\n",
    "    vectorizer = CountVectorizer(max_features=nwords)\n",
    "    vectors = vectorizer.fit_transform(text)\n",
    "    vocabulary = vectorizer.get_feature_names()\n",
    "    return vectors, vocabulary\n",
    "\n",
    "fb_bow, fb_vocab = compute_bag_of_words(fb.text, nwords)\n",
    "#fb_p = pd.Panel({'orig': fb, 'bow': fb_bow})\n",
    "display(fb_bow)\n",
    "display(fb_vocab[100:110])\n",
    "\n",
    "tw_bow, tw_vocab = compute_bag_of_words(tw.text, nwords)\n",
    "display(tw_bow)"
   ]
  },
  {
   "cell_type": "markdown",
   "metadata": {},
   "source": [
    "Exploration question: what are the 5 most used words ? Exploring your data while playing with it is a useful sanity check."
   ]
  },
  {
   "cell_type": "code",
   "execution_count": 3,
   "metadata": {
    "collapsed": false
   },
   "outputs": [
    {
     "name": "stdout",
     "output_type": "stream",
     "text": [
      "hand\n",
      "co\n",
      "http\n",
      "the\n",
      "epfl\n",
      "rt\n",
      "https\n",
      "to\n",
      "of\n",
      "in\n",
      "---\n",
      "off\n",
      "the\n",
      "http\n",
      "de\n",
      "epfl\n",
      "ly\n",
      "bit\n",
      "of\n",
      "la\n",
      "and\n"
     ]
    }
   ],
   "source": [
    "def print_most_frequent(bow, vocab, n=10):\n",
    "    idx = np.argsort(bow.sum(axis=0))\n",
    "    for i in range(10):\n",
    "        j = idx[0, -i]\n",
    "        print(vocab[j])\n",
    "\n",
    "print_most_frequent(tw_bow, tw_vocab)\n",
    "print('---')\n",
    "print_most_frequent(fb_bow, fb_vocab)"
   ]
  },
  {
   "cell_type": "markdown",
   "metadata": {},
   "source": [
    "# 3 Pre-processing\n",
    "\n",
    "1. The independant variables $X$ are the bags of words.\n",
    "2. The target $y$ is the number of likes.\n",
    "3. Split in half for training and testing sets."
   ]
  },
  {
   "cell_type": "code",
   "execution_count": 4,
   "metadata": {
    "collapsed": false
   },
   "outputs": [
    {
     "name": "stdout",
     "output_type": "stream",
     "text": [
      "(3211, 200)\n",
      "(3211,)\n"
     ]
    }
   ],
   "source": [
    "X = tw_bow\n",
    "y = tw['likes'].values\n",
    "\n",
    "n, d = X.shape\n",
    "assert n == y.size\n",
    "\n",
    "print(X.shape)\n",
    "print(y.shape)"
   ]
  },
  {
   "cell_type": "code",
   "execution_count": 5,
   "metadata": {
    "collapsed": false
   },
   "outputs": [
    {
     "name": "stdout",
     "output_type": "stream",
     "text": [
      "Split: 1605 testing and 1606 training samples\n"
     ]
    }
   ],
   "source": [
    "# Training and testing sets.\n",
    "test_size = n // 2\n",
    "print('Split: {} testing and {} training samples'.format(test_size, y.size - test_size))\n",
    "perm = np.random.permutation(y.size)\n",
    "X_test  = X[perm[:test_size]]\n",
    "X_train = X[perm[test_size:]]\n",
    "y_test  = y[perm[:test_size]]\n",
    "y_train = y[perm[test_size:]]"
   ]
  },
  {
   "cell_type": "markdown",
   "metadata": {},
   "source": [
    "# 4 Linear regression\n",
    "\n",
    "Using `numpy`, fit and evaluate the [linear model](https://en.wikipedia.org/wiki/Linear_regression) $$\\hat{w}, \\hat{b} = \\operatorname*{arg min}_{w,b} \\| Xw + b - y \\|_2^2.$$\n",
    "\n",
    "Please define a class `LinearRegression` with two methods:\n",
    "1. `fit` learn the parameters $w$ and $b$ of the model given the training examples.\n",
    "2. `predict` gives the estimated number of likes of a post / tweet. That will be used to evaluate the model on the testing set.\n",
    "\n",
    "To evaluate the classifier, create an `accuracy(y_pred, y_true)` function which computes the mean squared error $\\frac1n \\| \\hat{y} - y \\|_2^2$.\n",
    "\n",
    "Hint: you may want to use the function `scipy.sparse.linalg.spsolve()`."
   ]
  },
  {
   "cell_type": "markdown",
   "metadata": {},
   "source": [
    "If `solve` and `spsolve` tells you that your matrix is singular, please read this [good comment](http://stats.stackexchange.com/questions/70899/what-correlation-makes-a-matrix-singular-and-what-are-implications-of-singularit). Potential solutions:\n",
    "1. Is there any post / tweet without any word from the vocabulary ? I.e. a row of $X$ made only of zeroes. If yes, remove this row or enlarge the vocabulary.\n",
    "2. Identify and remove redundant features, i.e. words, who are linear combinations of others.\n",
    "3. What else could we do ?"
   ]
  },
  {
   "cell_type": "code",
   "execution_count": 6,
   "metadata": {
    "collapsed": false
   },
   "outputs": [
    {
     "name": "stdout",
     "output_type": "stream",
     "text": [
      "mse: 4.3624\n"
     ]
    }
   ],
   "source": [
    "import scipy.sparse\n",
    "\n",
    "class LinearRegression(object):\n",
    "    \n",
    "    def predict(self, X):\n",
    "        \"\"\"Return the predicted class given the features.\"\"\"\n",
    "        return X.dot(self.w) + self.b\n",
    "    \n",
    "    def fit(self, X, y):\n",
    "        \"\"\"Learn the model's parameters given the training data, the closed-form way.\"\"\"\n",
    "        n, d = X.shape\n",
    "        self.b = y.mean()\n",
    "        A = X.T.dot(X)\n",
    "        b = X.T.dot(y - self.b)\n",
    "        #self.w = np.linalg.solve(A, b)\n",
    "        self.w = scipy.sparse.linalg.spsolve(A, b)\n",
    "\n",
    "def evaluate(y_pred, y_true):\n",
    "    return np.linalg.norm(y_pred - y_true, ord=2)**2 / y_true.size\n",
    "\n",
    "model = LinearRegression()\n",
    "model.fit(X_train, y_train)\n",
    "y_pred = model.predict(X_test)\n",
    "\n",
    "mse = evaluate(y_pred, y_test)\n",
    "print('mse: {:.4f}'.format(mse))"
   ]
  },
  {
   "cell_type": "markdown",
   "metadata": {},
   "source": [
    "Interpretation: what are the most important words a post / tweet should include ?"
   ]
  },
  {
   "cell_type": "code",
   "execution_count": 7,
   "metadata": {
    "collapsed": false
   },
   "outputs": [
    {
     "name": "stdout",
     "output_type": "stream",
     "text": [
      "weight:  3.01, word: see\n",
      "weight:  2.24, word: 10\n",
      "weight:  2.12, word: just\n",
      "weight:  2.01, word: light\n",
      "weight: -1.91, word: upmicblog\n",
      "weight:  1.72, word: who\n",
      "weight: -1.67, word: technologisteu\n",
      "weight: -1.60, word: rt\n",
      "weight:  1.56, word: best\n",
      "weight:  1.46, word: congratulations\n",
      "weight:  1.45, word: startups\n",
      "weight: -1.39, word: 2012\n",
      "weight:  1.30, word: next\n",
      "weight:  1.29, word: rolex\n",
      "weight:  1.23, word: co\n",
      "weight:  1.20, word: years\n",
      "weight:  1.14, word: place\n",
      "weight: -1.08, word: method\n",
      "weight: -1.07, word: like\n",
      "weight:  1.06, word: university\n"
     ]
    }
   ],
   "source": [
    "idx = np.argsort(abs(model.w))\n",
    "\n",
    "for i in range(20):\n",
    "    j = idx[-1-i]\n",
    "    print('weight: {:5.2f}, word: {}'.format(model.w[j], tw_vocab[j]))"
   ]
  },
  {
   "cell_type": "markdown",
   "metadata": {},
   "source": [
    "# 5 Interactivity\n",
    "\n",
    "1. Create a slider for the number of words, i.e. the dimensionality of the samples $x$.\n",
    "2. Print the accuracy for each change on the slider."
   ]
  },
  {
   "cell_type": "code",
   "execution_count": 8,
   "metadata": {
    "collapsed": false
   },
   "outputs": [
    {
     "name": "stdout",
     "output_type": "stream",
     "text": [
      "nwords = 200\n",
      "mse: 4.3624\n"
     ]
    }
   ],
   "source": [
    "import ipywidgets\n",
    "from IPython.display import clear_output\n",
    "\n",
    "slider = ipywidgets.widgets.IntSlider(\n",
    "    value=1,\n",
    "    min=1,\n",
    "    max=nwords,\n",
    "    step=1,\n",
    "    description='nwords',\n",
    ")\n",
    "\n",
    "def handle(change):\n",
    "    \"\"\"Handler for value change: fit model and print performance.\"\"\"\n",
    "    nwords = change['new']\n",
    "    clear_output()\n",
    "    print('nwords = {}'.format(nwords))\n",
    "    model = LinearRegression()\n",
    "    model.fit(X_train[:, :nwords], y_train)\n",
    "    y_pred = model.predict(X_test[:, :nwords])\n",
    "    mse = evaluate(y_pred, y_test)\n",
    "    print('mse: {:.4f}'.format(mse))\n",
    "\n",
    "slider.observe(handle, names='value')\n",
    "display(slider)\n",
    "\n",
    "slider.value = nwords  # As if someone moved the slider."
   ]
  },
  {
   "cell_type": "markdown",
   "metadata": {},
   "source": [
    "# 6 Scikit learn\n",
    "\n",
    "1. Fit and evaluate the linear regression model using `sklearn`.\n",
    "2. Evaluate the model with the mean squared error metric provided by `sklearn`.\n",
    "3. Compare with your implementation."
   ]
  },
  {
   "cell_type": "code",
   "execution_count": 9,
   "metadata": {
    "collapsed": false
   },
   "outputs": [
    {
     "name": "stdout",
     "output_type": "stream",
     "text": [
      "mse: 4.3624\n"
     ]
    }
   ],
   "source": [
    "from sklearn import linear_model, metrics\n",
    "\n",
    "model = linear_model.LinearRegression()\n",
    "model.fit(X_train, y_train)\n",
    "y_pred = model.predict(X_test)\n",
    "\n",
    "mse = metrics.mean_squared_error(y_test, y_pred)\n",
    "assert np.allclose(evaluate(y_pred, y_test), mse)\n",
    "print('mse: {:.4f}'.format(mse))"
   ]
  },
  {
   "cell_type": "markdown",
   "metadata": {},
   "source": [
    "# 7 Deep Learning\n",
    "\n",
    "Try a simple deep learning model !\n",
    "\n",
    "Another modeling choice would be to use a Recurrent Neural Network (RNN) and feed it the sentence words after words."
   ]
  },
  {
   "cell_type": "code",
   "execution_count": 10,
   "metadata": {
    "collapsed": false
   },
   "outputs": [
    {
     "name": "stderr",
     "output_type": "stream",
     "text": [
      "Using Theano backend.\n"
     ]
    },
    {
     "name": "stdout",
     "output_type": "stream",
     "text": [
      "Epoch 1/20\n",
      "1606/1606 [==============================] - 0s - loss: 6.7979     \n",
      "Epoch 2/20\n",
      "1606/1606 [==============================] - 0s - loss: 6.0675     \n",
      "Epoch 3/20\n",
      "1606/1606 [==============================] - 0s - loss: 5.6889     \n",
      "Epoch 4/20\n",
      "1606/1606 [==============================] - 0s - loss: 5.4113     \n",
      "Epoch 5/20\n",
      "1606/1606 [==============================] - 0s - loss: 5.2405     \n",
      "Epoch 6/20\n",
      "1606/1606 [==============================] - 0s - loss: 5.0628     \n",
      "Epoch 7/20\n",
      "1606/1606 [==============================] - 0s - loss: 4.9390     \n",
      "Epoch 8/20\n",
      "1606/1606 [==============================] - 0s - loss: 4.8591     \n",
      "Epoch 9/20\n",
      "1606/1606 [==============================] - 0s - loss: 4.8044     \n",
      "Epoch 10/20\n",
      "1606/1606 [==============================] - 0s - loss: 4.6465     \n",
      "Epoch 11/20\n",
      "1606/1606 [==============================] - 0s - loss: 4.5274     \n",
      "Epoch 12/20\n",
      "1606/1606 [==============================] - 0s - loss: 4.4536     \n",
      "Epoch 13/20\n",
      "1606/1606 [==============================] - 0s - loss: 4.3845     \n",
      "Epoch 14/20\n",
      "1606/1606 [==============================] - 0s - loss: 4.2518     \n",
      "Epoch 15/20\n",
      "1606/1606 [==============================] - 0s - loss: 4.1647     \n",
      "Epoch 16/20\n",
      "1606/1606 [==============================] - 0s - loss: 4.1496     \n",
      "Epoch 17/20\n",
      "1606/1606 [==============================] - 0s - loss: 3.9788     \n",
      "Epoch 18/20\n",
      "1606/1606 [==============================] - 0s - loss: 3.9037     \n",
      "Epoch 19/20\n",
      "1606/1606 [==============================] - 0s - loss: 3.8886     \n",
      "Epoch 20/20\n",
      "1606/1606 [==============================] - 0s - loss: 3.7960     \n",
      "mse: 3.1814\n"
     ]
    }
   ],
   "source": [
    "import os\n",
    "os.environ['KERAS_BACKEND'] = 'theano'  # tensorflow\n",
    "import keras\n",
    "\n",
    "model = keras.models.Sequential()\n",
    "model.add(keras.layers.Dense(output_dim=50, input_dim=nwords, activation='relu'))\n",
    "model.add(keras.layers.Dense(output_dim=20, activation='relu'))\n",
    "model.add(keras.layers.Dense(output_dim=1, activation='relu'))\n",
    "model.compile(loss='mse', optimizer='sgd')\n",
    "\n",
    "model.fit(X_train.toarray(), y_train, nb_epoch=20, batch_size=100)\n",
    "y_pred = model.predict(X_test.toarray(), batch_size=32)\n",
    "\n",
    "mse = evaluate(y_test, y_pred.squeeze())\n",
    "print('mse: {:.4f}'.format(mse))"
   ]
  },
  {
   "cell_type": "markdown",
   "metadata": {},
   "source": [
    "# 8 Evaluation\n",
    "\n",
    "Use [matplotlib](http://matplotlib.org) to plot a performance visualization. E.g. the true number of likes and the real number of likes for all posts / tweets.\n",
    "\n",
    "What do you observe ? What are your suggestions to improve the performance ?"
   ]
  },
  {
   "cell_type": "code",
   "execution_count": 11,
   "metadata": {
    "collapsed": false
   },
   "outputs": [
    {
     "data": {
      "image/png": "[encoded data removed]",
      "text/plain": [
       "<matplotlib.figure.Figure at 0x7f60ac79a630>"
      ]
     },
     "metadata": {},
     "output_type": "display_data"
    }
   ],
   "source": [
    "from matplotlib import pyplot as plt\n",
    "plt.style.use('ggplot')\n",
    "%matplotlib inline\n",
    "\n",
    "n = 100\n",
    "plt.figure(figsize=(15, 5))\n",
    "plt.plot(y_test[:n], '.', alpha=.7, markersize=10, label='ground truth')\n",
    "plt.plot(y_pred[:n], '.', alpha=.7, markersize=10, label='prediction')\n",
    "plt.legend()\n",
    "plt.show()"
   ]
  }
 ],
 "metadata": {
  "kernelspec": {
   "display_name": "Python 3",
   "language": "python",
   "name": "python3"
  },
  "language_info": {
   "codemirror_mode": {
    "name": "ipython",
    "version": 3
   },
   "file_extension": ".py",
   "mimetype": "text/x-python",
   "name": "python",
   "nbconvert_exporter": "python",
   "pygments_lexer": "ipython3",
   "version": "3.5.2"
  },
  "widgets": {
   "state": {
    "1a4cc8b20a154e6cb11ba51c217c86d7": {
     "views": [
      {
       "cell_index": 17
      }
     ]
    }
   },
   "version": "1.2.0"
  }
 },
 "nbformat": 4,
 "nbformat_minor": 1
}
